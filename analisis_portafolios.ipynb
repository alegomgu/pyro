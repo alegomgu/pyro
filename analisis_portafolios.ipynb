{
 "cells": [
  {
   "cell_type": "markdown",
   "metadata": {},
   "source": [
    "# Análisis de Simulaciones de Portafolios\n",
    "Este notebook analiza un archivo CSV con resultados de simulaciones financieras en 6 apartados:\n",
    "1. Mejores configuraciones de portafolio\n",
    "2. Correlaciones entre variables\n",
    "3. Estadísticas generales\n",
    "4. Riesgo vs Retorno\n",
    "5. Prueba de normalidad\n",
    "6. Estrategias más exitosas"
   ]
  },
  {
   "cell_type": "code",
   "execution_count": null,
   "metadata": {},
   "outputs": [],
   "source": [
    "# Librerías necesarias\n",
    "import pandas as pd\n",
    "import matplotlib.pyplot as plt\n",
    "import numpy as np\n",
    "from scipy.stats import norm, shapiro"
   ]
  },
  {
   "cell_type": "code",
   "execution_count": null,
   "metadata": {},
   "outputs": [],
   "source": [
    "# Cargar el CSV (modifica la ruta si es necesario)\n",
    "file_path = \"tests.csv\"  # Cambia esto si es necesario\n",
    "df = pd.read_csv(file_path)\n",
    "df = df.tail(90)\n",
    "df.head()"
   ]
  },
  {
   "cell_type": "markdown",
   "metadata": {},
   "source": [
    "## 1. Mejores configuraciones de portafolio"
   ]
  },
  {
   "cell_type": "code",
   "execution_count": null,
   "metadata": {},
   "outputs": [],
   "source": [
    "grouped = (\n",
    "    df.groupby([\"percentil\", \"prediccion\", \"numberStocksInPortfolio\", \"rlog_size\",\"margen\"])\n",
    "    .agg(media_tae=(\"tae\", \"mean\"), conteo=(\"tae\", \"count\"))\n",
    "    .sort_values(by=\"media_tae\", ascending=False)\n",
    ")\n",
    "grouped.head(10)"
   ]
  },
  {
   "cell_type": "markdown",
   "metadata": {},
   "source": [
    "## 2. Relación entre variables"
   ]
  },
  {
   "cell_type": "code",
   "execution_count": null,
   "metadata": {},
   "outputs": [],
   "source": [
    "cols = [\"tae\", \"rentabilidad_total\", \"comision_total\", \"apalancamiento\", \"margen\", \"numberStocksInPortfolio\"]\n",
    "corr = df[cols].corr()\n",
    "corr"
   ]
  },
  {
   "cell_type": "code",
   "execution_count": null,
   "metadata": {},
   "outputs": [],
   "source": [
    "plt.figure(figsize=(8,6))\n",
    "plt.imshow(corr, cmap='coolwarm', interpolation='none')\n",
    "plt.colorbar(label='Correlación')\n",
    "plt.xticks(range(len(cols)), cols, rotation=45)\n",
    "plt.yticks(range(len(cols)), cols)\n",
    "plt.title(\"Matriz de Correlación entre Variables\")\n",
    "plt.tight_layout()\n",
    "plt.show()"
   ]
  },
  {
   "cell_type": "markdown",
   "metadata": {},
   "source": [
    "## 3. Estadísticas generales"
   ]
  },
  {
   "cell_type": "code",
   "execution_count": null,
   "metadata": {},
   "outputs": [],
   "source": [
    "df[cols].describe()"
   ]
  },
  {
   "cell_type": "markdown",
   "metadata": {},
   "source": [
    "## 4. Análisis riesgo-retorno"
   ]
  },
  {
   "cell_type": "code",
   "execution_count": null,
   "metadata": {},
   "outputs": [],
   "source": [
    "rr = df.groupby([\"apalancamiento\", \"percentil\", \"prediccion\"]).agg(media_tae=(\"tae\", \"mean\"), std_tae=(\"tae\", \"std\")).reset_index()\n",
    "rr[\"sharpe\"] = rr[\"media_tae\"] / rr[\"std_tae\"]\n",
    "rr.sort_values(by=\"sharpe\", ascending=False).head(10)"
   ]
  },
  {
   "cell_type": "markdown",
   "metadata": {},
   "source": [
    "## 5. Prueba de normalidad (Shapiro-Wilk)"
   ]
  },
  {
   "cell_type": "code",
   "execution_count": null,
   "metadata": {},
   "outputs": [],
   "source": [
    "tae_all = df[\"tae\"].dropna()\n",
    "stat, p = shapiro(tae_all)\n",
    "print(f\"Estadístico: {stat:.4f}, p-valor: {p:.4f}\")\n",
    "if p < 0.05:\n",
    "    print(\"→ No es distribución normal\")\n",
    "else:\n",
    "    print(\"→ Distribución normal aceptable\")"
   ]
  },
  {
   "cell_type": "code",
   "execution_count": null,
   "metadata": {},
   "outputs": [],
   "source": [
    "plt.figure()\n",
    "count, bins, _ = plt.hist(tae_all, bins=20, density=True, alpha=0.6, edgecolor='black')\n",
    "x = np.linspace(min(tae_all), max(tae_all), 100)\n",
    "p_norm = norm.pdf(x, tae_all.mean(), tae_all.std())\n",
    "plt.plot(x, p_norm, linewidth=2)\n",
    "plt.title(\"Distribución TAE con Curva Normal\")\n",
    "plt.xlabel(\"TAE\")\n",
    "plt.ylabel(\"Densidad\")\n",
    "plt.grid()\n",
    "plt.tight_layout()\n",
    "plt.show()"
   ]
  },
  {
   "cell_type": "markdown",
   "metadata": {},
   "source": [
    "## 6. Estrategias más exitosas"
   ]
  },
  {
   "cell_type": "code",
   "execution_count": null,
   "metadata": {},
   "outputs": [],
   "source": [
    "df.sort_values(by=\"tae\", ascending=False)[[\n",
    "    \"tae\", \"rentabilidad_total\", \"comision_total\", \"apalancamiento\",\n",
    "    \"percentil\", \"prediccion\", \"numberStocksInPortfolio\", \"rlog_size\"\n",
    "]].head(10)"
   ]
  }
 ],
 "metadata": {
  "kernelspec": {
   "display_name": "Python 3",
   "name": "python3"
  },
  "language_info": {
   "codemirror_mode": {
    "name": "ipython",
    "version": 3
   },
   "file_extension": ".py",
   "mimetype": "text/x-python",
   "name": "python",
   "nbconvert_exporter": "python",
   "pygments_lexer": "ipython3",
   "version": "3.10.4"
  }
 },
 "nbformat": 4,
 "nbformat_minor": 2
}
